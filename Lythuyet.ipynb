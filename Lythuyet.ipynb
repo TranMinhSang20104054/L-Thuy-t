{
  "nbformat": 4,
  "nbformat_minor": 0,
  "metadata": {
    "colab": {
      "provenance": [],
      "collapsed_sections": [],
      "authorship_tag": "ABX9TyO4uAQg1S+QjxUePKY3RbsS",
      "include_colab_link": true
    },
    "kernelspec": {
      "name": "python3",
      "display_name": "Python 3"
    },
    "language_info": {
      "name": "python"
    }
  },
  "cells": [
    {
      "cell_type": "markdown",
      "metadata": {
        "id": "view-in-github",
        "colab_type": "text"
      },
      "source": [
        "<a href=\"https://colab.research.google.com/github/TranMinhSang20104054/Ly-Thuyet/blob/main/Lythuyet.ipynb\" target=\"_parent\"><img src=\"https://colab.research.google.com/assets/colab-badge.svg\" alt=\"Open In Colab\"/></a>"
      ]
    },
    {
      "cell_type": "code",
      "execution_count": null,
      "metadata": {
        "id": "dUN4_SEQkM0B"
      },
      "outputs": [],
      "source": [
        "with open ('text.txt', mode = 'w') as accounts:\n",
        "  accounts.write('1 Tran Minh Sang 8.0 \\n')\n",
        "  accounts.write('2 Nguyen Dinh Khoi 6.8 \\n')"
      ]
    },
    {
      "cell_type": "code",
      "source": [
        "with open ('text.txt', mode = 'w') as accounts:\n",
        "  print('7:00 Nguyen Dinh Khoi', file = accounts)\n",
        "  print('7:01 Tran Minh Sang', file = accounts)"
      ],
      "metadata": {
        "id": "a-FrtnmgluW8"
      },
      "execution_count": null,
      "outputs": []
    },
    {
      "cell_type": "code",
      "source": [
        "with open ('text.txt', mode = 'r') as accounts:\n",
        "  print(f'{'Name' :<20}{'Score' :>20}')\n",
        "  for record in accounts:\n",
        "    Name, Score = record.split()\n",
        "    print(f'{Name :<20}{Score :>20}')"
      ],
      "metadata": {
        "id": "f6KRn8MVmRS2"
      },
      "execution_count": null,
      "outputs": []
    },
    {
      "cell_type": "code",
      "source": [
        "import pandas as pd\n",
        "url = 'Book1.csv'\n",
        "dataframe = pd.read_csv(url)\n",
        "dataframe.head(10)"
      ],
      "metadata": {
        "id": "DAXyOX1CrR6U"
      },
      "execution_count": null,
      "outputs": []
    },
    {
      "cell_type": "code",
      "source": [
        "import pandas as pd\n",
        "dataframe = pd.DataFrame()\n",
        "dataframe['Name'] = ['Tran Minh Sang','Nguyen Dinh Khoi']\n",
        "dataframe['Student ID'] = [20104054,20104038]\n",
        "dataframe['Score'] = [10,4.9]\n",
        "dataframe['Lover'] = [False, True]\n",
        "dataframe"
      ],
      "metadata": {
        "id": "Fy5cz0z-u1It"
      },
      "execution_count": null,
      "outputs": []
    },
    {
      "cell_type": "code",
      "source": [
        "import pandas as pd\n",
        "url = 'Book2.csv'\n",
        "dataframe = pd.read_csv(url)\n",
        "dataframe.head(10)\n",
        "dataframe.iloc[5:8] #iloc: index location (hang 5 - hang 7)\n"
      ],
      "metadata": {
        "id": "AlFzcVARyuzu"
      },
      "execution_count": null,
      "outputs": []
    },
    {
      "cell_type": "code",
      "source": [
        "import pandas as pd\n",
        "url = 'Book2.csv'\n",
        "dataframe = pd.read_csv(url)\n",
        "dataframe.head(10)\n",
        "dataframe.iloc[:4]\n",
        "dataframe = dataframe.set_index(dataframe['Full Name'])\n",
        "dataframe.loc['Tran Van A']"
      ],
      "metadata": {
        "id": "2Tk8tJ3Lzxo4"
      },
      "execution_count": null,
      "outputs": []
    },
    {
      "cell_type": "code",
      "source": [
        "import pandas as pd\n",
        "url = 'Book2.csv'\n",
        "dataframe = pd.read_csv(url)\n",
        "dataframe[(dataframe['Faculty']=='KCN') & (dataframe['Year']==21) & (dataframe['Score']>=5)]"
      ],
      "metadata": {
        "id": "74syYXga1r2p"
      },
      "execution_count": null,
      "outputs": []
    },
    {
      "cell_type": "code",
      "source": [
        "import pandas as pd\n",
        "url = 'Book2.csv'\n",
        "dataframe = pd.read_csv(url)\n",
        "print('Old student is year:', dataframe['Year'].min())\n",
        "print('Young student is year:', dataframe['Year'].max())\n",
        "print('Score Mean:', dataframe['Score'].sum())\n",
        "print('Course Count:', dataframe['Year'].count())"
      ],
      "metadata": {
        "id": "VreoKeXg527B"
      },
      "execution_count": null,
      "outputs": []
    },
    {
      "cell_type": "code",
      "source": [
        "import pandas as pd\n",
        "url = 'Book2.csv'\n",
        "dataframe = pd.read_csv(url)\n",
        "dataframe.drop(['Faculty','Year'], axis=1).head(9) #delete columns"
      ],
      "metadata": {
        "id": "b1yjqeqT7EFH"
      },
      "execution_count": null,
      "outputs": []
    },
    {
      "cell_type": "code",
      "source": [
        "import pandas as pd\n",
        "url = 'Book2.csv'\n",
        "dataframe = pd.read_csv(url)\n",
        "dataframe.groupby('Year').count() #groupby"
      ],
      "metadata": {
        "id": "iBG-NSKk74tV"
      },
      "execution_count": null,
      "outputs": []
    },
    {
      "cell_type": "code",
      "source": [
        "import pandas as pd\n",
        "url = 'medals.csv'\n",
        "data = pd.read_csv(url)\n",
        "data\n",
        "data['NOC'].unique()"
      ],
      "metadata": {
        "id": "Wg2Wia_R-CyG"
      },
      "execution_count": null,
      "outputs": []
    },
    {
      "cell_type": "code",
      "source": [
        "import pandas as pd\n",
        "url = 'medals.csv'\n",
        "dataframe = pd.read_csv(url)\n",
        "dataframe[(dataframe['NOC']=='USA') & (dataframe['Medal']==\"Gold\") & (dataframe['Event gender']=='M')]\n",
        "#print(\"Gold Medal:\",(dataframe['Medal']==\"Gold\").count())"
      ],
      "metadata": {
        "id": "RuCFsez4CKu8"
      },
      "execution_count": null,
      "outputs": []
    },
    {
      "cell_type": "code",
      "source": [
        "from openpyxl import Workbook\n",
        "wb = Workbook()\n",
        "Sheet = wb.active\n",
        "Sheet['A1'] = 'Tran Minh Sang'\n",
        "Sheet['B1'] = '20104054'\n",
        "Sheet['A2'] = 'Nguyen Dinh Khoi'\n",
        "Sheet['B2'] = '20104038'\n",
        "wb.save('test.xlsx')"
      ],
      "metadata": {
        "id": "gKEm7meIkO7c"
      },
      "execution_count": null,
      "outputs": []
    },
    {
      "cell_type": "code",
      "source": [
        "import openpyxl \n",
        "wb = openpyxl.load_workbook('test.xlsx')\n",
        "sheet = wb.active\n",
        "t1 = sheet['A1']\n",
        "t2 = sheet['B1']\n",
        "t3 = sheet.cell(row = 2, column = 1)\n",
        "t4 = sheet.cell(row = 2, column = 2)\n",
        "print(t1.value, t2.value)\n",
        "print(t3.value, t4.value)\n"
      ],
      "metadata": {
        "id": "zCNelzcyl-pS"
      },
      "execution_count": null,
      "outputs": []
    },
    {
      "cell_type": "code",
      "source": [
        "import openpyxl\n",
        "my_wb = openpyxl.Workbook()\n",
        "my_sheet = my_wb.active\n",
        "c1 = my_sheet.cell(row = 1, column = 1)\n",
        "c1.value = \"Nguyen Thanh Cong Danh\"\n",
        "c2 = my_sheet.cell(row = 1, column = 2)\n",
        "c2.value = \"Nguyen Thanh Hon\"\n",
        "c3 = my_sheet['A2']\n",
        "c3.value = \"Ulsan\"\n",
        "# B2 = column = 2 & row = 2\n",
        "c4 = my_sheet['B2']\n",
        "c4.value = \"Genovoa\"\n",
        "my_wb.save('test.xlsx')"
      ],
      "metadata": {
        "id": "haR13ztBqPPV"
      },
      "execution_count": null,
      "outputs": []
    },
    {
      "cell_type": "code",
      "source": [
        "import openpyxl\n",
        "my_wb = openpyxl.Workbook()\n",
        "my_sheet = my_wb.active\n",
        "my_wb.create_sheet(index = 1, title = \"CDT\")\n",
        "my_wb.save('test.xlsx')"
      ],
      "metadata": {
        "id": "Iwb4T-gjrtWJ"
      },
      "execution_count": null,
      "outputs": []
    },
    {
      "cell_type": "code",
      "source": [
        "# display total number of rows\n",
        "import openpyxl\n",
        "my_path = 'test.xlsx'\n",
        "my_wb_obj = openpyxl.load_workbook(my_path)\n",
        "my_sheet_obj = my_wb_obj.active\n",
        "#display all columns name\n",
        "my_max_col = my_sheet_obj.max_column\n",
        "for i in range(1, my_max_col + 1):\n",
        "  my_cell_obj = my_sheet_obj.cell(row = 1, column = i)\n",
        "  print(my_cell_obj.value)\n",
        "#display first column value\n",
        "my_row = my_sheet_obj.max_row\n",
        "for i in range(1, my_row + 1):\n",
        "  cell_obj = my_sheet_obj.cell(row = i, column = 1)\n",
        "  print(cell_obj.value)\n",
        "#\n",
        "print(my_sheet_obj.max_row)\n",
        "print(my_sheet_obj.max_column)\n",
        "\n",
        "my_cell_obj = my_sheet_obj.cell(row = 1, column =1)\n",
        "print(my_cell_obj.value)\n",
        "\n"
      ],
      "metadata": {
        "id": "uETxOQsWsLzW"
      },
      "execution_count": null,
      "outputs": []
    },
    {
      "cell_type": "code",
      "source": [
        "import matplotlib.pyplot as plt\n",
        "import numpy as np\n",
        "x = np.arange(6)\n",
        "y = x+1\n",
        "plt.plot(x,y,'o--')\n",
        "plt.title('y=x')\n",
        "plt.show()\n",
        "#\n",
        "plt.plot(x,y,'o--')\n",
        "plt.plot(x,-y,'o-')\n",
        "plt.title('y=x va y=-x')\n",
        "plt.xlabel('x')\n",
        "plt.ylabel('y')\n",
        "#tat cac truc xy [plt.axis('off')]\n",
        "#hien thi luoi [plt.grid('True')]\n",
        "plt.show()"
      ],
      "metadata": {
        "id": "-oxyKPBXtP2I"
      },
      "execution_count": null,
      "outputs": []
    },
    {
      "cell_type": "code",
      "source": [
        "import matplotlib.pyplot as plt\n",
        "import numpy as np\n",
        "# N=16\n",
        "x= np.linspace(0,15,16) #chay tu 0 -> 15, chia thanh 16 doan\n",
        "y=x\n",
        "plt.plot(x,y,'o--')\n",
        "plt.axis('off')\n",
        "plt.show()\n"
      ],
      "metadata": {
        "id": "5tQLEp9z6lh_"
      },
      "execution_count": null,
      "outputs": []
    },
    {
      "cell_type": "code",
      "source": [
        "import matplotlib.pyplot as plt\n",
        "import numpy as np\n",
        "# N=16\n",
        "x= np.linspace(0,15,16) #chay tu 0 -> 15, chia thanh 16 doan\n",
        "y= np.logspace(0.1,2,16)\n",
        "plt.plot(x,y,'--o')\n",
        "plt.axis('off')\n",
        "plt.show()"
      ],
      "metadata": {
        "id": "m5pw2kn57p_T"
      },
      "execution_count": null,
      "outputs": []
    },
    {
      "cell_type": "code",
      "source": [
        "import matplotlib.pyplot as plt\n",
        "import numpy as np\n",
        "x=[4,5,3,1,6,7]\n",
        "\n",
        "plt.plot(x)\n",
        "plt.show()"
      ],
      "metadata": {
        "id": "YqEpI8cK8LnC"
      },
      "execution_count": null,
      "outputs": []
    },
    {
      "cell_type": "code",
      "source": [
        "import matplotlib.pyplot as plt\n",
        "import numpy as np\n",
        "x= np.arange(26)\n",
        "plt.plot(x)\n",
        "plt.show()"
      ],
      "metadata": {
        "id": "NDjaUA6O8iim"
      },
      "execution_count": null,
      "outputs": []
    },
    {
      "cell_type": "code",
      "source": [
        "#ve do thi x= y^3 +1\n",
        "import matplotlib.pyplot as plt\n",
        "import numpy as np\n",
        "x= np.arange(-25,25)\n",
        "plt.plot(x,(x**3 +1))\n",
        "plt.show()"
      ],
      "metadata": {
        "id": "CXC5XUTM83nu"
      },
      "execution_count": null,
      "outputs": []
    },
    {
      "cell_type": "code",
      "source": [
        "# cach1\n",
        "import matplotlib.pyplot as plt\n",
        "import numpy as np\n",
        "x= np.arange(7)\n",
        "plt.plot(x,-x**2)\n",
        "plt.plot(x,-x**3)\n",
        "plt.plot(x,-2*x)\n",
        "plt.plot(x,-2**x)\n",
        "plt.show()"
      ],
      "metadata": {
        "id": "-7hv6mjN95rf"
      },
      "execution_count": null,
      "outputs": []
    },
    {
      "cell_type": "code",
      "source": [
        "# cach 2\n",
        "import matplotlib.pyplot as plt\n",
        "import numpy as np\n",
        "x= np.arange(7)\n",
        "plt.plot(x,-x**2,x,-x**3,x,-2*x,x,-2**x)\n",
        "plt.grid(True)\n",
        "plt.savefig('test.png')\n",
        "plt.show()"
      ],
      "metadata": {
        "id": "HpKw89NM-OHJ"
      },
      "execution_count": null,
      "outputs": []
    },
    {
      "cell_type": "code",
      "source": [
        "# ve cac bieu do con\n",
        "import matplotlib.pyplot as plt\n",
        "import numpy as np\n",
        "x= np.arange(-5,5)\n",
        "plt.subplots_adjust(wspace=0.3,hspace=0.3)\n",
        "plt.subplot(2,2,1) # 2hang, 2cot, dia chi 1\n",
        "plt.plot(x,-x**2,color = 'g')\n",
        "plt.subplot(2,2,2) # dia chi 2\n",
        "plt.plot(x,x**2,color = 'r')\n",
        "plt.subplot(2,2,3) # dia chi 3\n",
        "plt.plot(x,-2*x,color = 'b')\n",
        "plt.subplot(2,2,4) # dia chi 4\n",
        "plt.plot(x,2*x,'o--')\n",
        "plt.show()"
      ],
      "metadata": {
        "id": "6ZXxZ4leABpi"
      },
      "execution_count": null,
      "outputs": []
    },
    {
      "cell_type": "code",
      "source": [
        "import matplotlib.pyplot as plt\n",
        "import numpy as np\n",
        "plt.axis([0,100,0,1000])\n",
        "plt.scatter(60,50,1000,color='b',alpha=1,) #alpha la do dam nhat\n",
        "plt.scatter(80,50,s=1000,color='b',alpha=.5)\n",
        "plt.scatter(100,50,s=1000,color='b',alpha=.1)\n",
        "plt.show()"
      ],
      "metadata": {
        "id": "CaXtnnuXDfz_"
      },
      "execution_count": null,
      "outputs": []
    },
    {
      "cell_type": "code",
      "source": [
        "import matplotlib.pyplot as plt\n",
        "import numpy as np\n",
        "plt.axis([0,10,0,10])\n",
        "xa = 0\n",
        "xb = 5\n",
        "ya = 0\n",
        "yb = 5\n",
        "plt.plot([xa,xb],[ya,yb], linewidth= 2 ,color='r')\n",
        "plt.show()"
      ],
      "metadata": {
        "id": "LlddBndeF_W4"
      },
      "execution_count": null,
      "outputs": []
    },
    {
      "cell_type": "code",
      "source": [
        "import matplotlib.pyplot as plt\n",
        "import numpy as np\n",
        "plt.axis([0,10,0,10])\n",
        "xa = 3\n",
        "xb = 3\n",
        "ya = 0\n",
        "yb = 3\n",
        "plt.arrow(xa,ya,xb-xa,yb-ya,head_length=1,head_width=1,color='g')\n",
        "plt.show()"
      ],
      "metadata": {
        "id": "_IfrzJUbIFwr"
      },
      "execution_count": null,
      "outputs": []
    },
    {
      "cell_type": "code",
      "source": [
        "# ve bieu do cot dung\n",
        "import matplotlib.pyplot as plt\n",
        "import numpy as np\n",
        "x= np.arange(4)\n",
        "y= np.random.rand(4)\n",
        "plt.bar(x,y)\n",
        "plt.show()"
      ],
      "metadata": {
        "id": "dcJVziY3I9Tz"
      },
      "execution_count": null,
      "outputs": []
    },
    {
      "cell_type": "code",
      "source": [
        "import matplotlib.pyplot as plt\n",
        "import numpy as np\n",
        "x= np.arange(4)\n",
        "y= np.random.rand(3,4)\n",
        "plt.bar(x+0,y[0],color='b',width=0.25)\n",
        "plt.bar(x+0.25,y[1],color='r',width=0.25)\n",
        "plt.bar(x+0.5,y[2],color='g',width=0.25)\n",
        "plt.show()"
      ],
      "metadata": {
        "id": "kLkCNSJFJi46"
      },
      "execution_count": null,
      "outputs": []
    },
    {
      "cell_type": "code",
      "source": [
        "# ve bieu do cot nam\n",
        "import matplotlib.pyplot as plt\n",
        "import numpy as np\n",
        "x= np.arange(4)\n",
        "y= np.random.rand(4)\n",
        "plt.barh(x,y)\n",
        "plt.show()"
      ],
      "metadata": {
        "id": "BXr5UGPwKKgz"
      },
      "execution_count": null,
      "outputs": []
    },
    {
      "cell_type": "code",
      "source": [
        "import matplotlib.pyplot as plt\n",
        "import numpy as np\n",
        "N=1000\n",
        "x= np.random.rand(N)\n",
        "y= np.random.rand(N)\n",
        "colors = np.random.rand(N)\n",
        "size = 20\n",
        "plt.scatter(x,y,s=size,c=colors,alpha=1)\n",
        "plt.show()"
      ],
      "metadata": {
        "id": "lLxEz01YLjNu"
      },
      "execution_count": null,
      "outputs": []
    },
    {
      "cell_type": "code",
      "source": [
        "pip install scikit-fuzzy\n"
      ],
      "metadata": {
        "id": "HL1cbPpv2XOt"
      },
      "execution_count": null,
      "outputs": []
    },
    {
      "cell_type": "code",
      "source": [
        "import numpy as np\n",
        "import skfuzzy as fuzz\n",
        "from skfuzzy import control as ctrl\n",
        "food = ctrl.Antecedent(np.arange(0,11,1),'food')\n",
        "service = ctrl.Antecedent(np.arange(0,11,1),'service')\n",
        "tip = ctrl.Consequent(np.arange(10,26,1),'tip')\n",
        "food['poor'] = fuzz.trimf(food.universe,[0,0,5])\n",
        "food['average'] = fuzz.trimf(food.universe,[0,5,10])\n",
        "food['good'] = fuzz.trimf(food.universe,[5,10,10])\n",
        "\n",
        "service['poor'] = fuzz.trimf(service.universe,[0,0,5])\n",
        "service['average'] = fuzz.trimf(service.universe,[0,5,10])\n",
        "service['good'] = fuzz.trimf(service.universe,[5,10,10])\n",
        "\n",
        "tip['less'] = fuzz.trimf(tip.universe,[10,14,18])\n",
        "tip['normal'] = fuzz.trimf(tip.universe,[14,18,22])\n",
        "tip['much'] = fuzz.trimf(tip.universe,[18,22,25])\n",
        "service.view()\n",
        "food.view()\n",
        "tip.view()\n",
        "\n",
        "rule1= ctrl.Rule(food['poor'],service['poor'],tip['less'])\n",
        "rule2= ctrl.Rule(food['average'],service['poor'],tip['less'])\n",
        "rule3= ctrl.Rule(food['good'],service['poor'],tip['less'])\n",
        "rule4= ctrl.Rule(food['poor'],service['average'],tip['less'])\n",
        "rule5= ctrl.Rule(food['poor'],service['good'],tip['less'])\n",
        "rule6= ctrl.Rule(food['poor'],service['poor'],tip['normal'])\n",
        "rule7= ctrl.Rule(food['poor'],service['poor'],tip['much'])\n",
        "rule8= ctrl.Rule(food['average'],service['average'],tip['less'])\n",
        "rule9= ctrl.Rule(food['good'],service['good'],tip['much'])\n",
        "\n",
        "tipping_ctrl = ctrl.ControlSystem([rule1,rule2,rule3,rule4,rule5,rule6,rule7,rule8,rule9])\n",
        "tipping = ctrl.ControlSystemSimulation(tipping_ctrl)\n",
        "tipping.input['food']=6.2\n",
        "tipping.input['service']\n",
        "tipping.compute()\n",
        "print(tipping.output['tip'])\n",
        "tip.view(sim=tipping)"
      ],
      "metadata": {
        "id": "WCPlLdZ72nzM"
      },
      "execution_count": null,
      "outputs": []
    },
    {
      "cell_type": "code",
      "source": [
        "import numpy as np\n",
        "import skfuzzy as fuzz\n",
        "from skfuzzy import control as ctrl\n",
        "time = ctrl.Antecedent(np.arange(10,121,1),'time')\n",
        "rice = ctrl.Antecedent(np.arange(100,1000,1),'rice')\n",
        "power = ctrl.Consequent(np.arange(0,101,1),'power')\n",
        "\n",
        "time['10p'] = fuzz.trimf(time.universe,[10,15,20])\n",
        "time['20p'] = fuzz.trimf(time.universe,[20,30,40])\n",
        "time['40p'] = fuzz.trimf(time.universe,[40,60,70])\n",
        "time['70p'] = fuzz.trimf(time.universe,[70,80,90])\n",
        "time['120p'] = fuzz.trimf(time.universe,[90,100,120])\n",
        "\n",
        "rice['100g'] = fuzz.trimf(rice.universe,[10,15,20])\n",
        "rice['300g'] = fuzz.trimf(rice.universe,[20,30,40])\n",
        "rice['500g'] = fuzz.trimf(rice.universe,[40,60,70])\n",
        "rice['700g'] = fuzz.trimf(rice.universe,[70,80,90])\n",
        "rice['1000g'] = fuzz.trimf(rice.universe,[90,100,120])\n",
        "\n",
        "time.view()\n",
        "\n",
        "\n"
      ],
      "metadata": {
        "id": "7B1F1zLG-AZ7"
      },
      "execution_count": null,
      "outputs": []
    }
  ]
}